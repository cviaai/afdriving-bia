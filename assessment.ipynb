{
  "cells": [
    {
      "cell_type": "code",
      "execution_count": 1,
      "metadata": {
        "id": "paYmhaCt4Rtp"
      },
      "outputs": [],
      "source": [
        "import h5py\n",
        "import seaborn as sns\n",
        "import cv2\n",
        "import pandas as pd\n",
        "import numpy as np\n",
        "import matplotlib.pyplot as plt\n",
        "import imageio\n",
        "from IPython.display import Image\n",
        "def dice_score_gt(niom,mem,length):\n",
        "    dice_scores=[]\n",
        "    size=64\n",
        "    kernel = np.ones((5,5),np.uint8)\n",
        "    for i in range(length):\n",
        "        niom_frame=niom['F4'][i,:,:]\n",
        "        niom_frame=cv2.resize(niom_frame,(size,size),interpolation=cv2.INTER_CUBIC)\n",
        "        niom_frame=cv2.GaussianBlur(niom_frame, (7, 7), 0)\n",
        "        niom_frame = cv2.normalize(niom_frame,  np.zeros((size,size)), 0, 255, cv2.NORM_MINMAX)\n",
        "        ret, niom_frame = cv2.threshold(niom_frame.astype(np.uint8), 0, 255, cv2.THRESH_OTSU)\n",
        "        niom_frame=cv2.GaussianBlur(niom_frame, (7, 7), 0)\n",
        "        niom_frame = cv2.erode(niom_frame, kernel, iterations=1)\n",
        "        niom_mask=cv2.GaussianBlur(niom_frame, (7, 7), 0)\n",
        "        ret, niom_mask = cv2.threshold(niom_mask.astype(np.uint8), 0, 255, cv2.THRESH_OTSU)\n",
        "\n",
        "        mem_frame=mem['F4'][i,:,:]\n",
        "        mem_frame=cv2.resize(mem_frame,(size,size),interpolation=cv2.INTER_CUBIC)\n",
        "        mem_frame = cv2.GaussianBlur(mem_frame, (7, 7), 0)\n",
        "        mem_frame = cv2.normalize(mem_frame, np.zeros((size,size)), 0, 255, cv2.NORM_MINMAX)\n",
        "        ret, mem_frame = cv2.threshold(mem_frame.astype(np.uint8), 0, 255, cv2.THRESH_OTSU)\n",
        "        mem_mask = cv2.normalize(mem_frame,  np.zeros((size,size)), 0, 255, cv2.NORM_MINMAX)\n",
        "\n",
        "        \n",
        "        intersection = np.sum(mem_mask[niom_mask==255]) * 2.0\n",
        "        dice = intersection / (np.sum(mem_mask) + np.sum(niom_mask))\n",
        "        dice_scores.append(dice)\n",
        "    return np.mean(dice_scores)"
      ]
    },
    {
      "cell_type": "code",
      "execution_count": 2,
      "metadata": {
        "id": "nyYDI-7I4Rtt"
      },
      "outputs": [],
      "source": [
        "def dice_score_pred(niom,predictions,length,channels):\n",
        "    kernel = cv2.getStructuringElement(cv2.MORPH_ELLIPSE, (5, 5))\n",
        "    dice_scores=[]\n",
        "    size=64\n",
        "    for i in range(length):\n",
        "        niom_frame=niom['F4'][i+channels-1,:,:]\n",
        "        niom_frame=cv2.resize(niom_frame,(size,size),interpolation=cv2.INTER_CUBIC)\n",
        "        niom_frame=cv2.GaussianBlur(niom_frame, (7, 7), 0)\n",
        "        niom_frame = cv2.normalize(niom_frame,  np.zeros((size,size)), 0, 255, cv2.NORM_MINMAX)\n",
        "        ret, niom_frame = cv2.threshold(niom_frame.astype(np.uint8), 0, 255, cv2.THRESH_OTSU)\n",
        "        niom_frame=cv2.GaussianBlur(niom_frame, (7, 7), 0)\n",
        "        niom_frame = cv2.erode(niom_frame, kernel, iterations=1)\n",
        "        niom_mask=cv2.GaussianBlur(niom_frame, (7, 7), 0)\n",
        "        ret, niom_mask = cv2.threshold(niom_mask.astype(np.uint8), 0, 255, cv2.THRESH_OTSU)\n",
        "        \n",
        "        prediction = predictions['predictions'][i,:,:]\n",
        "        predictions_mask = cv2.normalize(prediction,  np.zeros((size,size)), 0, 255, cv2.NORM_MINMAX)\n",
        "        \n",
        "        intersection = np.sum(predictions_mask[niom_mask==255]) * 2.0\n",
        "        dice = intersection / (np.sum(predictions_mask) + np.sum(niom_mask))\n",
        "        dice_scores.append(dice)\n",
        "    return np.mean(dice_scores)"
      ]
    },
    {
      "cell_type": "code",
      "source": [
        "# from keras import backend as K\n",
        "def iou_coef(niom, predictions,length, channels,  smooth=1):\n",
        "    kernel = cv2.getStructuringElement(cv2.MORPH_ELLIPSE, (5, 5))\n",
        "    dice_scores=[]\n",
        "    size=64\n",
        "    for i in range(length):\n",
        "        niom_frame=niom['F4'][i+channels-1,:,:]\n",
        "        niom_frame=cv2.resize(niom_frame,(size,size),interpolation=cv2.INTER_CUBIC)\n",
        "        niom_frame=cv2.GaussianBlur(niom_frame, (7, 7), 0)\n",
        "        niom_frame = cv2.normalize(niom_frame,  np.zeros((size,size)), 0, 255, cv2.NORM_MINMAX)\n",
        "        ret, niom_frame = cv2.threshold(niom_frame.astype(np.uint8), 0, 255, cv2.THRESH_OTSU)\n",
        "        niom_frame=cv2.GaussianBlur(niom_frame, (7, 7), 0)\n",
        "        niom_frame = cv2.erode(niom_frame, kernel, iterations=1)\n",
        "        niom_mask=cv2.GaussianBlur(niom_frame, (7, 7), 0)\n",
        "        ret, niom_mask = cv2.threshold(niom_mask.astype(np.uint8), 0, 255, cv2.THRESH_OTSU)\n",
        "        \n",
        "        prediction = predictions['predictions'][i,:,:]\n",
        "        predictions_mask = cv2.normalize(prediction,  np.zeros((size,size)), 0, 255, cv2.NORM_MINMAX)\n",
        "\n",
        "        intersection = np.sum(predictions_mask[niom_mask==255]) * 2.0\n",
        "        union = np.sum(predictions_mask) + np.sum(niom_mask) - intersection\n",
        "        iou = np.mean((intersection + smooth) / (union + smooth))\n",
        "    return iou"
      ],
      "metadata": {
        "id": "SkopKPZ_5krz"
      },
      "execution_count": null,
      "outputs": []
    },
    {
      "cell_type": "code",
      "source": [
        "try:\n",
        "    import google.colab\n",
        "    IN_COLAB = True\n",
        "except ImportError:\n",
        "    IN_COLAB = False\n",
        "\n",
        "from pathlib import Path\n",
        "if IN_COLAB:\n",
        "    google.colab.drive.mount(\"/content/drive\")\n",
        "    \n",
        "    # Change this if you created the shortcut in a different location\n",
        "    AUX_DATA_ROOT = Path(\"/content/drive/MyDrive/BIA2022/\")\n",
        "    \n",
        "    assert AUX_DATA_ROOT.is_dir(), \"Have you forgot to 'Add a shortcut to Drive'?\"\n",
        "    \n",
        "    import sys\n",
        "    sys.path.append(str(AUX_DATA_ROOT))\n",
        "else:\n",
        "    AUX_DATA_ROOT = Path(\".\")"
      ],
      "metadata": {
        "colab": {
          "base_uri": "https://localhost:8080/"
        },
        "id": "9qzkRPhW3F1P",
        "outputId": "dfc84675-2a56-46a6-a203-34b1013b69f3"
      },
      "execution_count": 3,
      "outputs": [
        {
          "output_type": "stream",
          "name": "stdout",
          "text": [
            "Mounted at /content/drive\n"
          ]
        }
      ]
    },
    {
      "cell_type": "code",
      "execution_count": 4,
      "metadata": {
        "id": "K012xIzT4Rtu"
      },
      "outputs": [],
      "source": [
        "path = '/content/drive/MyDrive/BIA2022/data/'\n",
        "mem_test_sampled = 'mem_sampled_test.h5'\n",
        "mem_test_full = 'mem_full_test.h5'\n",
        "mem_full = h5py.File(path+mem_test_full, 'r')\n",
        "mem_sampled = h5py.File(path+mem_test_sampled, 'r')\n",
        "\n",
        "niom_test_sampled = 'niom_sampled_test.h5'\n",
        "niom_test_full = 'niom_full_test.h5'\n",
        "niom_full = h5py.File(path+niom_test_full, 'r')\n",
        "niom_sampled = h5py.File(path+niom_test_sampled, 'r')"
      ]
    },
    {
      "cell_type": "code",
      "execution_count": 5,
      "metadata": {
        "colab": {
          "base_uri": "https://localhost:8080/"
        },
        "id": "hwOIkyX54Rtu",
        "outputId": "b0cb4562-4a46-4e7b-d43e-4b1d55fa259d"
      },
      "outputs": [
        {
          "output_type": "stream",
          "name": "stdout",
          "text": [
            "GT sampled =  0.10217779479748584\n"
          ]
        }
      ],
      "source": [
        "#GT\n",
        "print('GT sampled = ',dice_score_gt(niom_full,mem_full,700))"
      ]
    },
    {
      "cell_type": "markdown",
      "metadata": {
        "id": "X3NFNwwk4Rtv"
      },
      "source": [
        "### UNET"
      ]
    },
    {
      "cell_type": "code",
      "execution_count": null,
      "metadata": {
        "scrolled": true,
        "colab": {
          "base_uri": "https://localhost:8080/"
        },
        "id": "FTwFY6k_4Rtw",
        "outputId": "fbfc6280-bb04-425b-a59f-1c00c00d7b45"
      },
      "outputs": [
        {
          "output_type": "stream",
          "name": "stdout",
          "text": [
            "0.374927448924055\n"
          ]
        }
      ],
      "source": [
        "prediction_sampled = h5py.File('/content/drive/MyDrive/BIA2022/results/predictions__unet_sampled_mask.h5', 'r')\n",
        "print(dice_score_pred(niom_sampled,prediction_sampled,length = 700,channels = 1))"
      ]
    },
    {
      "cell_type": "code",
      "source": [
        "prediction_sampled = h5py.File('/content/drive/MyDrive/BIA2022/results/predictions__unet_sampled_mask.h5', 'r')\n",
        "print(iou_coef(niom_sampled,prediction_sampled,length = 700,channels = 1))"
      ],
      "metadata": {
        "colab": {
          "base_uri": "https://localhost:8080/"
        },
        "id": "qEaAHpHn6dh4",
        "outputId": "a061460d-7b6b-47fe-e4ae-9f0ea7f84d66"
      },
      "execution_count": null,
      "outputs": [
        {
          "output_type": "stream",
          "name": "stdout",
          "text": [
            "0.30921278125080665\n"
          ]
        }
      ]
    }
  ],
  "metadata": {
    "kernelspec": {
      "display_name": "Python 3",
      "language": "python",
      "name": "python3"
    },
    "language_info": {
      "codemirror_mode": {
        "name": "ipython",
        "version": 3
      },
      "file_extension": ".py",
      "mimetype": "text/x-python",
      "name": "python",
      "nbconvert_exporter": "python",
      "pygments_lexer": "ipython3",
      "version": "3.8.5"
    },
    "colab": {
      "name": "assessment.ipynb",
      "provenance": []
    }
  },
  "nbformat": 4,
  "nbformat_minor": 0
}